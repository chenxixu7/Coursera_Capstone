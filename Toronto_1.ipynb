{
 "cells": [
  {
   "cell_type": "markdown",
   "metadata": {},
   "source": [
    "<h1 align=center><font size = 5>Segmenting and Clustering Neighborhoods in Toronto - Part I</font></h1>"
   ]
  },
  {
   "cell_type": "markdown",
   "metadata": {},
   "source": [
    "Install and import libraries"
   ]
  },
  {
   "cell_type": "code",
   "execution_count": null,
   "metadata": {},
   "outputs": [],
   "source": [
    "!conda install beautifulsoup4 -y\n",
    "!conda install lxml -y\n",
    "!conda install html5lib -y\n",
    "import pandas as pd\n",
    "import html5lib"
   ]
  },
  {
   "cell_type": "markdown",
   "metadata": {},
   "source": [
    "Scrape the Wikipedia page"
   ]
  },
  {
   "cell_type": "code",
   "execution_count": 9,
   "metadata": {},
   "outputs": [
    {
     "name": "stdout",
     "output_type": "stream",
     "text": [
      "    Postcode           Borough          Neighbourhood\n",
      "0        M1A      Not assigned           Not assigned\n",
      "1        M2A      Not assigned           Not assigned\n",
      "2        M3A        North York              Parkwoods\n",
      "3        M4A        North York       Victoria Village\n",
      "4        M5A  Downtown Toronto           Harbourfront\n",
      "..       ...               ...                    ...\n",
      "283      M8Z         Etobicoke              Mimico NW\n",
      "284      M8Z         Etobicoke     The Queensway West\n",
      "285      M8Z         Etobicoke  Royal York South West\n",
      "286      M8Z         Etobicoke         South of Bloor\n",
      "287      M9Z      Not assigned           Not assigned\n",
      "\n",
      "[288 rows x 3 columns]\n"
     ]
    }
   ],
   "source": [
    "lists = pd.read_html(\"https://en.wikipedia.org/wiki/List_of_postal_codes_of_Canada:_M\")[0]\n",
    "df = pd.DataFrame(lists)\n",
    "print (df)"
   ]
  },
  {
   "cell_type": "markdown",
   "metadata": {},
   "source": [
    "Ignore cells with a borough that is Not assigned."
   ]
  },
  {
   "cell_type": "code",
   "execution_count": 126,
   "metadata": {},
   "outputs": [
    {
     "name": "stdout",
     "output_type": "stream",
     "text": [
      "    Postcode           Borough             Neighbourhood\n",
      "2        M3A        North York                 Parkwoods\n",
      "3        M4A        North York          Victoria Village\n",
      "4        M5A  Downtown Toronto              Harbourfront\n",
      "5        M5A  Downtown Toronto               Regent Park\n",
      "6        M6A        North York          Lawrence Heights\n",
      "..       ...               ...                       ...\n",
      "282      M8Z         Etobicoke  Kingsway Park South West\n",
      "283      M8Z         Etobicoke                 Mimico NW\n",
      "284      M8Z         Etobicoke        The Queensway West\n",
      "285      M8Z         Etobicoke     Royal York South West\n",
      "286      M8Z         Etobicoke            South of Bloor\n",
      "\n",
      "[211 rows x 3 columns]\n"
     ]
    }
   ],
   "source": [
    "df1 = df[df.Borough != 'Not assigned']\n",
    "print (df1)"
   ]
  },
  {
   "cell_type": "markdown",
   "metadata": {},
   "source": [
    "Combine rows"
   ]
  },
  {
   "cell_type": "code",
   "execution_count": 122,
   "metadata": {},
   "outputs": [
    {
     "name": "stdout",
     "output_type": "stream",
     "text": [
      "    Postcode      Borough                                      Neighbourhood\n",
      "0        M1B  Scarborough                                      Rouge,Malvern\n",
      "1        M1C  Scarborough               Highland Creek,Rouge Hill,Port Union\n",
      "2        M1E  Scarborough                    Guildwood,Morningside,West Hill\n",
      "3        M1G  Scarborough                                             Woburn\n",
      "4        M1H  Scarborough                                          Cedarbrae\n",
      "..       ...          ...                                                ...\n",
      "98       M9N         York                                             Weston\n",
      "99       M9P    Etobicoke                                          Westmount\n",
      "100      M9R    Etobicoke  Kingsview Village,Martin Grove Gardens,Richvie...\n",
      "101      M9V    Etobicoke  Albion Gardens,Beaumond Heights,Humbergate,Jam...\n",
      "102      M9W    Etobicoke                                          Northwest\n",
      "\n",
      "[103 rows x 3 columns]\n"
     ]
    }
   ],
   "source": [
    "df2 = df1.groupby(['Postcode','Borough'])['Neighbourhood'].apply(lambda x: ','.join(x)).reset_index()\n",
    "print (df2)"
   ]
  },
  {
   "cell_type": "markdown",
   "metadata": {},
   "source": [
    "If a cell has a borough but a Not assigned neighborhood, then the neighborhood will be the same as the borough"
   ]
  },
  {
   "cell_type": "code",
   "execution_count": 123,
   "metadata": {},
   "outputs": [
    {
     "name": "stdout",
     "output_type": "stream",
     "text": [
      "    Postcode      Borough                                      Neighbourhood\n",
      "0        M1B  Scarborough                                      Rouge,Malvern\n",
      "1        M1C  Scarborough               Highland Creek,Rouge Hill,Port Union\n",
      "2        M1E  Scarborough                    Guildwood,Morningside,West Hill\n",
      "3        M1G  Scarborough                                             Woburn\n",
      "4        M1H  Scarborough                                          Cedarbrae\n",
      "..       ...          ...                                                ...\n",
      "98       M9N         York                                             Weston\n",
      "99       M9P    Etobicoke                                          Westmount\n",
      "100      M9R    Etobicoke  Kingsview Village,Martin Grove Gardens,Richvie...\n",
      "101      M9V    Etobicoke  Albion Gardens,Beaumond Heights,Humbergate,Jam...\n",
      "102      M9W    Etobicoke                                          Northwest\n",
      "\n",
      "[103 rows x 3 columns]\n"
     ]
    }
   ],
   "source": [
    "df2['Neighbourhood'].replace(\"Not assigned\", df2[\"Borough\"],inplace=True)\n",
    "print (df2)"
   ]
  },
  {
   "cell_type": "markdown",
   "metadata": {},
   "source": [
    "In the last cell of your notebook, use the .shape method to print the number of rows of your dataframe."
   ]
  },
  {
   "cell_type": "code",
   "execution_count": 124,
   "metadata": {},
   "outputs": [
    {
     "data": {
      "text/plain": [
       "(103, 3)"
      ]
     },
     "execution_count": 124,
     "metadata": {},
     "output_type": "execute_result"
    }
   ],
   "source": [
    "df2.shape"
   ]
  }
 ],
 "metadata": {
  "kernelspec": {
   "display_name": "Python",
   "language": "python",
   "name": "conda-env-python-py"
  },
  "language_info": {
   "codemirror_mode": {
    "name": "ipython",
    "version": 3
   },
   "file_extension": ".py",
   "mimetype": "text/x-python",
   "name": "python",
   "nbconvert_exporter": "python",
   "pygments_lexer": "ipython3",
   "version": "3.6.7"
  }
 },
 "nbformat": 4,
 "nbformat_minor": 4
}
